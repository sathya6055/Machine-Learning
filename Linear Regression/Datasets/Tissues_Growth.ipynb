{
 "cells": [
  {
   "cell_type": "code",
   "execution_count": 1,
   "metadata": {},
   "outputs": [],
   "source": [
    "import pandas as pd\n",
    "import numpy as np\n",
    "import matplotlib.pyplot as plt\n",
    "import seaborn as sns\n",
    "from sklearn.preprocessing import PolynomialFeatures\n",
    "from sklearn.linear_model import LinearRegression\n",
    "from sklearn.metrics import mean_squared_error, r2_score\n",
    "from sklearn.model_selection import train_test_split"
   ]
  },
  {
   "cell_type": "code",
   "execution_count": null,
   "metadata": {},
   "outputs": [
    {
     "data": {
      "application/vnd.microsoft.datawrangler.viewer.v0+json": {
       "columns": [
        {
         "name": "index",
         "rawType": "int64",
         "type": "integer"
        },
        {
         "name": "Unnamed: 0",
         "rawType": "int64",
         "type": "integer"
        },
        {
         "name": "Tissue Type",
         "rawType": "object",
         "type": "string"
        },
        {
         "name": "Growth Rate (mm/day)",
         "rawType": "float64",
         "type": "float"
        },
        {
         "name": "Days",
         "rawType": "int64",
         "type": "integer"
        }
       ],
       "conversionMethod": "pd.DataFrame",
       "ref": "7e2a2b61-4668-43f2-883b-75f9e9eaa4a2",
       "rows": [
        [
         "0",
         "0",
         "Nervous",
         "3.807947176588889",
         "76"
        ],
        [
         "1",
         "1",
         "Muscle",
         "9.51207163345817",
         "7"
        ],
        [
         "2",
         "2",
         "Connective",
         "7.34674002393291",
         "29"
        ],
        [
         "3",
         "3",
         "Epithelial",
         "6.026718993550662",
         "11"
        ],
        [
         "4",
         "4",
         "Nervous",
         "1.6445845403801216",
         "33"
        ],
        [
         "5",
         "5",
         "Muscle",
         "1.6443457513284063",
         "6"
        ],
        [
         "6",
         "6",
         "Connective",
         "0.6750277604651747",
         "79"
        ],
        [
         "7",
         "7",
         "Epithelial",
         "8.675143843171858",
         "32"
        ],
        [
         "8",
         "8",
         "Connective",
         "6.051038616257767",
         "51"
        ],
        [
         "9",
         "9",
         "Muscle",
         "7.10991852018085",
         "75"
        ],
        [
         "10",
         "10",
         "Epithelial",
         "0.3037864935284442",
         "58"
        ],
        [
         "11",
         "11",
         "Connective",
         "9.702107536403744",
         "87"
        ],
        [
         "12",
         "12",
         "Nervous",
         "8.341182143924176",
         "26"
        ],
        [
         "13",
         "13",
         "Epithelial",
         "2.202157195714934",
         "98"
        ],
        [
         "14",
         "14",
         "Connective",
         "1.900067175350296",
         "46"
        ],
        [
         "15",
         "15",
         "Muscle",
         "1.915704647548995",
         "98"
        ],
        [
         "16",
         "16",
         "Muscle",
         "3.1119982052994235",
         "29"
        ],
        [
         "17",
         "17",
         "Epithelial",
         "5.295088673159155",
         "4"
        ],
        [
         "18",
         "18",
         "Connective",
         "4.376255684556946",
         "81"
        ],
        [
         "19",
         "19",
         "Epithelial",
         "2.983168487960615",
         "99"
        ],
        [
         "20",
         "20",
         "Epithelial",
         "6.157343657751556",
         "13"
        ],
        [
         "21",
         "21",
         "Connective",
         "1.4809892204552142",
         "39"
        ],
        [
         "22",
         "22",
         "Connective",
         "2.99223202049866",
         "15"
        ],
        [
         "23",
         "23",
         "Nervous",
         "3.726982248607548",
         "29"
        ],
        [
         "24",
         "24",
         "Connective",
         "4.615092843748656",
         "29"
        ],
        [
         "25",
         "25",
         "Muscle",
         "7.873242017790835",
         "75"
        ],
        [
         "26",
         "26",
         "Epithelial",
         "2.0767704433677614",
         "32"
        ],
        [
         "27",
         "27",
         "Epithelial",
         "5.190920940294755",
         "2"
        ],
        [
         "28",
         "28",
         "Muscle",
         "5.96490423173422",
         "47"
        ],
        [
         "29",
         "29",
         "Connective",
         "0.5598590859279775",
         "78"
        ],
        [
         "30",
         "30",
         "Muscle",
         "6.11469403382424",
         "84"
        ],
        [
         "31",
         "31",
         "Muscle",
         "1.7881888245041864",
         "22"
        ],
        [
         "32",
         "32",
         "Nervous",
         "0.7440107705542672",
         "75"
        ],
        [
         "33",
         "33",
         "Muscle",
         "9.493966818808",
         "27"
        ],
        [
         "34",
         "34",
         "Epithelial",
         "9.659757127438136",
         "67"
        ],
        [
         "35",
         "35",
         "Muscle",
         "8.103133746352965",
         "81"
        ],
        [
         "36",
         "36",
         "Epithelial",
         "3.11567631481637",
         "56"
        ],
        [
         "37",
         "37",
         "Epithelial",
         "1.0669539286632004",
         "92"
        ],
        [
         "38",
         "38",
         "Epithelial",
         "6.873906962470353",
         "93"
        ],
        [
         "39",
         "39",
         "Connective",
         "4.457509688022053",
         "21"
        ],
        [
         "40",
         "40",
         "Nervous",
         "1.3081785249633104",
         "47"
        ],
        [
         "41",
         "41",
         "Epithelial",
         "5.002251410101574",
         "80"
        ],
        [
         "42",
         "42",
         "Epithelial",
         "0.4404463590406621",
         "59"
        ],
        [
         "43",
         "43",
         "Connective",
         "9.102271980579944",
         "84"
        ],
        [
         "44",
         "44",
         "Epithelial",
         "2.661921817840168",
         "6"
        ],
        [
         "45",
         "45",
         "Muscle",
         "6.658970615104422",
         "19"
        ],
        [
         "46",
         "46",
         "Muscle",
         "3.1859396532851685",
         "57"
        ],
        [
         "47",
         "47",
         "Nervous",
         "5.248673409660327",
         "69"
        ],
        [
         "48",
         "48",
         "Epithelial",
         "5.5124317654984685",
         "3"
        ],
        [
         "49",
         "49",
         "Connective",
         "1.9300591097027175",
         "1"
        ]
       ],
       "shape": {
        "columns": 4,
        "rows": 800
       }
      },
      "text/html": [
       "<div>\n",
       "<style scoped>\n",
       "    .dataframe tbody tr th:only-of-type {\n",
       "        vertical-align: middle;\n",
       "    }\n",
       "\n",
       "    .dataframe tbody tr th {\n",
       "        vertical-align: top;\n",
       "    }\n",
       "\n",
       "    .dataframe thead th {\n",
       "        text-align: right;\n",
       "    }\n",
       "</style>\n",
       "<table border=\"1\" class=\"dataframe\">\n",
       "  <thead>\n",
       "    <tr style=\"text-align: right;\">\n",
       "      <th></th>\n",
       "      <th>Unnamed: 0</th>\n",
       "      <th>Tissue Type</th>\n",
       "      <th>Growth Rate (mm/day)</th>\n",
       "      <th>Days</th>\n",
       "    </tr>\n",
       "  </thead>\n",
       "  <tbody>\n",
       "    <tr>\n",
       "      <th>0</th>\n",
       "      <td>0</td>\n",
       "      <td>Nervous</td>\n",
       "      <td>3.807947</td>\n",
       "      <td>76</td>\n",
       "    </tr>\n",
       "    <tr>\n",
       "      <th>1</th>\n",
       "      <td>1</td>\n",
       "      <td>Muscle</td>\n",
       "      <td>9.512072</td>\n",
       "      <td>7</td>\n",
       "    </tr>\n",
       "    <tr>\n",
       "      <th>2</th>\n",
       "      <td>2</td>\n",
       "      <td>Connective</td>\n",
       "      <td>7.346740</td>\n",
       "      <td>29</td>\n",
       "    </tr>\n",
       "    <tr>\n",
       "      <th>3</th>\n",
       "      <td>3</td>\n",
       "      <td>Epithelial</td>\n",
       "      <td>6.026719</td>\n",
       "      <td>11</td>\n",
       "    </tr>\n",
       "    <tr>\n",
       "      <th>4</th>\n",
       "      <td>4</td>\n",
       "      <td>Nervous</td>\n",
       "      <td>1.644585</td>\n",
       "      <td>33</td>\n",
       "    </tr>\n",
       "    <tr>\n",
       "      <th>...</th>\n",
       "      <td>...</td>\n",
       "      <td>...</td>\n",
       "      <td>...</td>\n",
       "      <td>...</td>\n",
       "    </tr>\n",
       "    <tr>\n",
       "      <th>795</th>\n",
       "      <td>795</td>\n",
       "      <td>Nervous</td>\n",
       "      <td>8.734027</td>\n",
       "      <td>31</td>\n",
       "    </tr>\n",
       "    <tr>\n",
       "      <th>796</th>\n",
       "      <td>796</td>\n",
       "      <td>Nervous</td>\n",
       "      <td>9.327971</td>\n",
       "      <td>78</td>\n",
       "    </tr>\n",
       "    <tr>\n",
       "      <th>797</th>\n",
       "      <td>797</td>\n",
       "      <td>Muscle</td>\n",
       "      <td>5.694819</td>\n",
       "      <td>20</td>\n",
       "    </tr>\n",
       "    <tr>\n",
       "      <th>798</th>\n",
       "      <td>798</td>\n",
       "      <td>Muscle</td>\n",
       "      <td>6.996843</td>\n",
       "      <td>18</td>\n",
       "    </tr>\n",
       "    <tr>\n",
       "      <th>799</th>\n",
       "      <td>799</td>\n",
       "      <td>Nervous</td>\n",
       "      <td>9.232744</td>\n",
       "      <td>93</td>\n",
       "    </tr>\n",
       "  </tbody>\n",
       "</table>\n",
       "<p>800 rows × 4 columns</p>\n",
       "</div>"
      ],
      "text/plain": [
       "     Unnamed: 0 Tissue Type  Growth Rate (mm/day)  Days\n",
       "0             0     Nervous              3.807947    76\n",
       "1             1      Muscle              9.512072     7\n",
       "2             2  Connective              7.346740    29\n",
       "3             3  Epithelial              6.026719    11\n",
       "4             4     Nervous              1.644585    33\n",
       "..          ...         ...                   ...   ...\n",
       "795         795     Nervous              8.734027    31\n",
       "796         796     Nervous              9.327971    78\n",
       "797         797      Muscle              5.694819    20\n",
       "798         798      Muscle              6.996843    18\n",
       "799         799     Nervous              9.232744    93\n",
       "\n",
       "[800 rows x 4 columns]"
      ]
     },
     "execution_count": 38,
     "metadata": {},
     "output_type": "execute_result"
    }
   ],
   "source": [
    "\n",
    "df =pd.read_csv(r'C:\\Users\\adity\\Documents\\machine learning\\Linear Regression\\Datasets\\Tissue Growth.csv')\n",
    "df"
   ]
  },
  {
   "cell_type": "code",
   "execution_count": 39,
   "metadata": {},
   "outputs": [
    {
     "data": {
      "application/vnd.microsoft.datawrangler.viewer.v0+json": {
       "columns": [
        {
         "name": "index",
         "rawType": "int64",
         "type": "integer"
        },
        {
         "name": "Unnamed: 0",
         "rawType": "int64",
         "type": "integer"
        },
        {
         "name": "Tissue Type",
         "rawType": "object",
         "type": "string"
        },
        {
         "name": "Growth Rate (mm/day)",
         "rawType": "float64",
         "type": "float"
        },
        {
         "name": "Days",
         "rawType": "int64",
         "type": "integer"
        }
       ],
       "conversionMethod": "pd.DataFrame",
       "ref": "cf7e8070-f6d7-4c63-a4be-23618f25369f",
       "rows": [
        [
         "0",
         "0",
         "Nervous",
         "3.807947176588889",
         "76"
        ],
        [
         "1",
         "1",
         "Muscle",
         "9.51207163345817",
         "7"
        ],
        [
         "2",
         "2",
         "Connective",
         "7.34674002393291",
         "29"
        ],
        [
         "3",
         "3",
         "Epithelial",
         "6.026718993550662",
         "11"
        ],
        [
         "4",
         "4",
         "Nervous",
         "1.6445845403801216",
         "33"
        ]
       ],
       "shape": {
        "columns": 4,
        "rows": 5
       }
      },
      "text/html": [
       "<div>\n",
       "<style scoped>\n",
       "    .dataframe tbody tr th:only-of-type {\n",
       "        vertical-align: middle;\n",
       "    }\n",
       "\n",
       "    .dataframe tbody tr th {\n",
       "        vertical-align: top;\n",
       "    }\n",
       "\n",
       "    .dataframe thead th {\n",
       "        text-align: right;\n",
       "    }\n",
       "</style>\n",
       "<table border=\"1\" class=\"dataframe\">\n",
       "  <thead>\n",
       "    <tr style=\"text-align: right;\">\n",
       "      <th></th>\n",
       "      <th>Unnamed: 0</th>\n",
       "      <th>Tissue Type</th>\n",
       "      <th>Growth Rate (mm/day)</th>\n",
       "      <th>Days</th>\n",
       "    </tr>\n",
       "  </thead>\n",
       "  <tbody>\n",
       "    <tr>\n",
       "      <th>0</th>\n",
       "      <td>0</td>\n",
       "      <td>Nervous</td>\n",
       "      <td>3.807947</td>\n",
       "      <td>76</td>\n",
       "    </tr>\n",
       "    <tr>\n",
       "      <th>1</th>\n",
       "      <td>1</td>\n",
       "      <td>Muscle</td>\n",
       "      <td>9.512072</td>\n",
       "      <td>7</td>\n",
       "    </tr>\n",
       "    <tr>\n",
       "      <th>2</th>\n",
       "      <td>2</td>\n",
       "      <td>Connective</td>\n",
       "      <td>7.346740</td>\n",
       "      <td>29</td>\n",
       "    </tr>\n",
       "    <tr>\n",
       "      <th>3</th>\n",
       "      <td>3</td>\n",
       "      <td>Epithelial</td>\n",
       "      <td>6.026719</td>\n",
       "      <td>11</td>\n",
       "    </tr>\n",
       "    <tr>\n",
       "      <th>4</th>\n",
       "      <td>4</td>\n",
       "      <td>Nervous</td>\n",
       "      <td>1.644585</td>\n",
       "      <td>33</td>\n",
       "    </tr>\n",
       "  </tbody>\n",
       "</table>\n",
       "</div>"
      ],
      "text/plain": [
       "   Unnamed: 0 Tissue Type  Growth Rate (mm/day)  Days\n",
       "0           0     Nervous              3.807947    76\n",
       "1           1      Muscle              9.512072     7\n",
       "2           2  Connective              7.346740    29\n",
       "3           3  Epithelial              6.026719    11\n",
       "4           4     Nervous              1.644585    33"
      ]
     },
     "execution_count": 39,
     "metadata": {},
     "output_type": "execute_result"
    }
   ],
   "source": [
    "df.head()"
   ]
  },
  {
   "cell_type": "code",
   "execution_count": 40,
   "metadata": {},
   "outputs": [
    {
     "data": {
      "text/plain": [
       "(800, 4)"
      ]
     },
     "execution_count": 40,
     "metadata": {},
     "output_type": "execute_result"
    }
   ],
   "source": [
    "df.shape"
   ]
  },
  {
   "cell_type": "code",
   "execution_count": 41,
   "metadata": {},
   "outputs": [
    {
     "name": "stdout",
     "output_type": "stream",
     "text": [
      "<class 'pandas.core.frame.DataFrame'>\n",
      "RangeIndex: 800 entries, 0 to 799\n",
      "Data columns (total 4 columns):\n",
      " #   Column                Non-Null Count  Dtype  \n",
      "---  ------                --------------  -----  \n",
      " 0   Unnamed: 0            800 non-null    int64  \n",
      " 1   Tissue Type           800 non-null    object \n",
      " 2   Growth Rate (mm/day)  800 non-null    float64\n",
      " 3   Days                  800 non-null    int64  \n",
      "dtypes: float64(1), int64(2), object(1)\n",
      "memory usage: 25.1+ KB\n"
     ]
    }
   ],
   "source": [
    "df.info()"
   ]
  },
  {
   "cell_type": "code",
   "execution_count": 42,
   "metadata": {},
   "outputs": [
    {
     "data": {
      "application/vnd.microsoft.datawrangler.viewer.v0+json": {
       "columns": [
        {
         "name": "index",
         "rawType": "object",
         "type": "string"
        },
        {
         "name": "count",
         "rawType": "float64",
         "type": "float"
        },
        {
         "name": "mean",
         "rawType": "float64",
         "type": "float"
        },
        {
         "name": "std",
         "rawType": "float64",
         "type": "float"
        },
        {
         "name": "min",
         "rawType": "float64",
         "type": "float"
        },
        {
         "name": "25%",
         "rawType": "float64",
         "type": "float"
        },
        {
         "name": "50%",
         "rawType": "float64",
         "type": "float"
        },
        {
         "name": "75%",
         "rawType": "float64",
         "type": "float"
        },
        {
         "name": "max",
         "rawType": "float64",
         "type": "float"
        }
       ],
       "conversionMethod": "pd.DataFrame",
       "ref": "cc73c517-2a2f-481d-9789-e12125fbcd8a",
       "rows": [
        [
         "Unnamed: 0",
         "800.0",
         "399.5",
         "231.08440016582685",
         "0.0",
         "199.75",
         "399.5",
         "599.25",
         "799.0"
        ],
        [
         "Growth Rate (mm/day)",
         "800.0",
         "5.019867622567126",
         "2.906708211748949",
         "0.150109680077565",
         "2.490113666411882",
         "5.1168203349661585",
         "7.5613266389072304",
         "9.997204965532692"
        ],
        [
         "Days",
         "800.0",
         "48.455",
         "28.74179166710548",
         "1.0",
         "23.0",
         "46.5",
         "74.0",
         "99.0"
        ]
       ],
       "shape": {
        "columns": 8,
        "rows": 3
       }
      },
      "text/html": [
       "<div>\n",
       "<style scoped>\n",
       "    .dataframe tbody tr th:only-of-type {\n",
       "        vertical-align: middle;\n",
       "    }\n",
       "\n",
       "    .dataframe tbody tr th {\n",
       "        vertical-align: top;\n",
       "    }\n",
       "\n",
       "    .dataframe thead th {\n",
       "        text-align: right;\n",
       "    }\n",
       "</style>\n",
       "<table border=\"1\" class=\"dataframe\">\n",
       "  <thead>\n",
       "    <tr style=\"text-align: right;\">\n",
       "      <th></th>\n",
       "      <th>count</th>\n",
       "      <th>mean</th>\n",
       "      <th>std</th>\n",
       "      <th>min</th>\n",
       "      <th>25%</th>\n",
       "      <th>50%</th>\n",
       "      <th>75%</th>\n",
       "      <th>max</th>\n",
       "    </tr>\n",
       "  </thead>\n",
       "  <tbody>\n",
       "    <tr>\n",
       "      <th>Unnamed: 0</th>\n",
       "      <td>800.0</td>\n",
       "      <td>399.500000</td>\n",
       "      <td>231.084400</td>\n",
       "      <td>0.00000</td>\n",
       "      <td>199.750000</td>\n",
       "      <td>399.50000</td>\n",
       "      <td>599.250000</td>\n",
       "      <td>799.000000</td>\n",
       "    </tr>\n",
       "    <tr>\n",
       "      <th>Growth Rate (mm/day)</th>\n",
       "      <td>800.0</td>\n",
       "      <td>5.019868</td>\n",
       "      <td>2.906708</td>\n",
       "      <td>0.15011</td>\n",
       "      <td>2.490114</td>\n",
       "      <td>5.11682</td>\n",
       "      <td>7.561327</td>\n",
       "      <td>9.997205</td>\n",
       "    </tr>\n",
       "    <tr>\n",
       "      <th>Days</th>\n",
       "      <td>800.0</td>\n",
       "      <td>48.455000</td>\n",
       "      <td>28.741792</td>\n",
       "      <td>1.00000</td>\n",
       "      <td>23.000000</td>\n",
       "      <td>46.50000</td>\n",
       "      <td>74.000000</td>\n",
       "      <td>99.000000</td>\n",
       "    </tr>\n",
       "  </tbody>\n",
       "</table>\n",
       "</div>"
      ],
      "text/plain": [
       "                      count        mean         std      min         25%  \\\n",
       "Unnamed: 0            800.0  399.500000  231.084400  0.00000  199.750000   \n",
       "Growth Rate (mm/day)  800.0    5.019868    2.906708  0.15011    2.490114   \n",
       "Days                  800.0   48.455000   28.741792  1.00000   23.000000   \n",
       "\n",
       "                            50%         75%         max  \n",
       "Unnamed: 0            399.50000  599.250000  799.000000  \n",
       "Growth Rate (mm/day)    5.11682    7.561327    9.997205  \n",
       "Days                   46.50000   74.000000   99.000000  "
      ]
     },
     "execution_count": 42,
     "metadata": {},
     "output_type": "execute_result"
    }
   ],
   "source": [
    "df.describe().T"
   ]
  },
  {
   "cell_type": "code",
   "execution_count": 43,
   "metadata": {},
   "outputs": [
    {
     "data": {
      "text/plain": [
       "Unnamed: 0              0\n",
       "Tissue Type             0\n",
       "Growth Rate (mm/day)    0\n",
       "Days                    0\n",
       "dtype: int64"
      ]
     },
     "execution_count": 43,
     "metadata": {},
     "output_type": "execute_result"
    }
   ],
   "source": [
    "df.isnull().sum()   "
   ]
  },
  {
   "cell_type": "code",
   "execution_count": 44,
   "metadata": {},
   "outputs": [
    {
     "data": {
      "text/plain": [
       "np.int64(0)"
      ]
     },
     "execution_count": 44,
     "metadata": {},
     "output_type": "execute_result"
    }
   ],
   "source": [
    "df.duplicated().sum()"
   ]
  },
  {
   "cell_type": "code",
   "execution_count": 45,
   "metadata": {},
   "outputs": [],
   "source": [
    "df.drop('Unnamed: 0', axis=1, inplace=True)"
   ]
  },
  {
   "cell_type": "code",
   "execution_count": 46,
   "metadata": {},
   "outputs": [
    {
     "data": {
      "application/vnd.microsoft.datawrangler.viewer.v0+json": {
       "columns": [
        {
         "name": "index",
         "rawType": "int64",
         "type": "integer"
        },
        {
         "name": "Tissue Type",
         "rawType": "object",
         "type": "string"
        },
        {
         "name": "Growth Rate (mm/day)",
         "rawType": "float64",
         "type": "float"
        },
        {
         "name": "Days",
         "rawType": "int64",
         "type": "integer"
        }
       ],
       "conversionMethod": "pd.DataFrame",
       "ref": "a8dcee89-4579-4832-ab9f-9f71737e652b",
       "rows": [
        [
         "0",
         "Nervous",
         "3.807947176588889",
         "76"
        ],
        [
         "1",
         "Muscle",
         "9.51207163345817",
         "7"
        ],
        [
         "2",
         "Connective",
         "7.34674002393291",
         "29"
        ],
        [
         "3",
         "Epithelial",
         "6.026718993550662",
         "11"
        ],
        [
         "4",
         "Nervous",
         "1.6445845403801216",
         "33"
        ],
        [
         "5",
         "Muscle",
         "1.6443457513284063",
         "6"
        ],
        [
         "6",
         "Connective",
         "0.6750277604651747",
         "79"
        ],
        [
         "7",
         "Epithelial",
         "8.675143843171858",
         "32"
        ],
        [
         "8",
         "Connective",
         "6.051038616257767",
         "51"
        ],
        [
         "9",
         "Muscle",
         "7.10991852018085",
         "75"
        ],
        [
         "10",
         "Epithelial",
         "0.3037864935284442",
         "58"
        ],
        [
         "11",
         "Connective",
         "9.702107536403744",
         "87"
        ],
        [
         "12",
         "Nervous",
         "8.341182143924176",
         "26"
        ],
        [
         "13",
         "Epithelial",
         "2.202157195714934",
         "98"
        ],
        [
         "14",
         "Connective",
         "1.900067175350296",
         "46"
        ],
        [
         "15",
         "Muscle",
         "1.915704647548995",
         "98"
        ],
        [
         "16",
         "Muscle",
         "3.1119982052994235",
         "29"
        ],
        [
         "17",
         "Epithelial",
         "5.295088673159155",
         "4"
        ],
        [
         "18",
         "Connective",
         "4.376255684556946",
         "81"
        ],
        [
         "19",
         "Epithelial",
         "2.983168487960615",
         "99"
        ],
        [
         "20",
         "Epithelial",
         "6.157343657751556",
         "13"
        ],
        [
         "21",
         "Connective",
         "1.4809892204552142",
         "39"
        ],
        [
         "22",
         "Connective",
         "2.99223202049866",
         "15"
        ],
        [
         "23",
         "Nervous",
         "3.726982248607548",
         "29"
        ],
        [
         "24",
         "Connective",
         "4.615092843748656",
         "29"
        ],
        [
         "25",
         "Muscle",
         "7.873242017790835",
         "75"
        ],
        [
         "26",
         "Epithelial",
         "2.0767704433677614",
         "32"
        ],
        [
         "27",
         "Epithelial",
         "5.190920940294755",
         "2"
        ],
        [
         "28",
         "Muscle",
         "5.96490423173422",
         "47"
        ],
        [
         "29",
         "Connective",
         "0.5598590859279775",
         "78"
        ],
        [
         "30",
         "Muscle",
         "6.11469403382424",
         "84"
        ],
        [
         "31",
         "Muscle",
         "1.7881888245041864",
         "22"
        ],
        [
         "32",
         "Nervous",
         "0.7440107705542672",
         "75"
        ],
        [
         "33",
         "Muscle",
         "9.493966818808",
         "27"
        ],
        [
         "34",
         "Epithelial",
         "9.659757127438136",
         "67"
        ],
        [
         "35",
         "Muscle",
         "8.103133746352965",
         "81"
        ],
        [
         "36",
         "Epithelial",
         "3.11567631481637",
         "56"
        ],
        [
         "37",
         "Epithelial",
         "1.0669539286632004",
         "92"
        ],
        [
         "38",
         "Epithelial",
         "6.873906962470353",
         "93"
        ],
        [
         "39",
         "Connective",
         "4.457509688022053",
         "21"
        ],
        [
         "40",
         "Nervous",
         "1.3081785249633104",
         "47"
        ],
        [
         "41",
         "Epithelial",
         "5.002251410101574",
         "80"
        ],
        [
         "42",
         "Epithelial",
         "0.4404463590406621",
         "59"
        ],
        [
         "43",
         "Connective",
         "9.102271980579944",
         "84"
        ],
        [
         "44",
         "Epithelial",
         "2.661921817840168",
         "6"
        ],
        [
         "45",
         "Muscle",
         "6.658970615104422",
         "19"
        ],
        [
         "46",
         "Muscle",
         "3.1859396532851685",
         "57"
        ],
        [
         "47",
         "Nervous",
         "5.248673409660327",
         "69"
        ],
        [
         "48",
         "Epithelial",
         "5.5124317654984685",
         "3"
        ],
        [
         "49",
         "Connective",
         "1.9300591097027175",
         "1"
        ]
       ],
       "shape": {
        "columns": 3,
        "rows": 800
       }
      },
      "text/html": [
       "<div>\n",
       "<style scoped>\n",
       "    .dataframe tbody tr th:only-of-type {\n",
       "        vertical-align: middle;\n",
       "    }\n",
       "\n",
       "    .dataframe tbody tr th {\n",
       "        vertical-align: top;\n",
       "    }\n",
       "\n",
       "    .dataframe thead th {\n",
       "        text-align: right;\n",
       "    }\n",
       "</style>\n",
       "<table border=\"1\" class=\"dataframe\">\n",
       "  <thead>\n",
       "    <tr style=\"text-align: right;\">\n",
       "      <th></th>\n",
       "      <th>Tissue Type</th>\n",
       "      <th>Growth Rate (mm/day)</th>\n",
       "      <th>Days</th>\n",
       "    </tr>\n",
       "  </thead>\n",
       "  <tbody>\n",
       "    <tr>\n",
       "      <th>0</th>\n",
       "      <td>Nervous</td>\n",
       "      <td>3.807947</td>\n",
       "      <td>76</td>\n",
       "    </tr>\n",
       "    <tr>\n",
       "      <th>1</th>\n",
       "      <td>Muscle</td>\n",
       "      <td>9.512072</td>\n",
       "      <td>7</td>\n",
       "    </tr>\n",
       "    <tr>\n",
       "      <th>2</th>\n",
       "      <td>Connective</td>\n",
       "      <td>7.346740</td>\n",
       "      <td>29</td>\n",
       "    </tr>\n",
       "    <tr>\n",
       "      <th>3</th>\n",
       "      <td>Epithelial</td>\n",
       "      <td>6.026719</td>\n",
       "      <td>11</td>\n",
       "    </tr>\n",
       "    <tr>\n",
       "      <th>4</th>\n",
       "      <td>Nervous</td>\n",
       "      <td>1.644585</td>\n",
       "      <td>33</td>\n",
       "    </tr>\n",
       "    <tr>\n",
       "      <th>...</th>\n",
       "      <td>...</td>\n",
       "      <td>...</td>\n",
       "      <td>...</td>\n",
       "    </tr>\n",
       "    <tr>\n",
       "      <th>795</th>\n",
       "      <td>Nervous</td>\n",
       "      <td>8.734027</td>\n",
       "      <td>31</td>\n",
       "    </tr>\n",
       "    <tr>\n",
       "      <th>796</th>\n",
       "      <td>Nervous</td>\n",
       "      <td>9.327971</td>\n",
       "      <td>78</td>\n",
       "    </tr>\n",
       "    <tr>\n",
       "      <th>797</th>\n",
       "      <td>Muscle</td>\n",
       "      <td>5.694819</td>\n",
       "      <td>20</td>\n",
       "    </tr>\n",
       "    <tr>\n",
       "      <th>798</th>\n",
       "      <td>Muscle</td>\n",
       "      <td>6.996843</td>\n",
       "      <td>18</td>\n",
       "    </tr>\n",
       "    <tr>\n",
       "      <th>799</th>\n",
       "      <td>Nervous</td>\n",
       "      <td>9.232744</td>\n",
       "      <td>93</td>\n",
       "    </tr>\n",
       "  </tbody>\n",
       "</table>\n",
       "<p>800 rows × 3 columns</p>\n",
       "</div>"
      ],
      "text/plain": [
       "    Tissue Type  Growth Rate (mm/day)  Days\n",
       "0       Nervous              3.807947    76\n",
       "1        Muscle              9.512072     7\n",
       "2    Connective              7.346740    29\n",
       "3    Epithelial              6.026719    11\n",
       "4       Nervous              1.644585    33\n",
       "..          ...                   ...   ...\n",
       "795     Nervous              8.734027    31\n",
       "796     Nervous              9.327971    78\n",
       "797      Muscle              5.694819    20\n",
       "798      Muscle              6.996843    18\n",
       "799     Nervous              9.232744    93\n",
       "\n",
       "[800 rows x 3 columns]"
      ]
     },
     "execution_count": 46,
     "metadata": {},
     "output_type": "execute_result"
    }
   ],
   "source": [
    "df"
   ]
  },
  {
   "cell_type": "code",
   "execution_count": 47,
   "metadata": {},
   "outputs": [
    {
     "name": "stdout",
     "output_type": "stream",
     "text": [
      "['Growth Rate (mm/day)', 'Days']\n",
      "Index(['Tissue Type'], dtype='object')\n"
     ]
    }
   ],
   "source": [
    "num = df.select_dtypes(include=np.number).columns.tolist()\n",
    "cat = df.select_dtypes(include='object').columns\n",
    "print(num)\n",
    "print(cat)"
   ]
  },
  {
   "cell_type": "code",
   "execution_count": 48,
   "metadata": {},
   "outputs": [
    {
     "name": "stdout",
     "output_type": "stream",
     "text": [
      "Growth Rate (mm/day)\n"
     ]
    },
    {
     "data": {
      "image/png": "[encoded data removed]",
      "text/plain": [
       "<Figure size 640x480 with 2 Axes>"
      ]
     },
     "metadata": {},
     "output_type": "display_data"
    },
    {
     "name": "stdout",
     "output_type": "stream",
     "text": [
      "Days\n"
     ]
    },
    {
     "data": {
      "image/png": "[encoded data removed]",
      "text/plain": [
       "<Figure size 640x480 with 2 Axes>"
      ]
     },
     "metadata": {},
     "output_type": "display_data"
    }
   ],
   "source": [
    "for i in num:\n",
    "    print(i)\n",
    "    \n",
    "    plt.subplot(1,2,1)\n",
    "    df[i].plot(kind='hist', bins=10,alpha=0.5)\n",
    "    \n",
    "    plt.subplot(1,2,2)\n",
    "    sns.boxplot(df[i])\n",
    "    \n",
    "    plt.tight_layout()\n",
    "    plt.show()"
   ]
  },
  {
   "cell_type": "code",
   "execution_count": 49,
   "metadata": {},
   "outputs": [
    {
     "data": {
      "text/plain": [
       "<Axes: xlabel='Tissue Type', ylabel='count'>"
      ]
     },
     "execution_count": 49,
     "metadata": {},
     "output_type": "execute_result"
    },
    {
     "data": {
      "image/png": "[encoded data removed]",
      "text/plain": [
       "<Figure size 640x480 with 1 Axes>"
      ]
     },
     "metadata": {},
     "output_type": "display_data"
    }
   ],
   "source": [
    "sns.countplot(x='Tissue Type', data=df)"
   ]
  },
  {
   "cell_type": "code",
   "execution_count": 50,
   "metadata": {},
   "outputs": [
    {
     "data": {
      "image/png": "[encoded data removed]",
      "text/plain": [
       "<Figure size 640x480 with 2 Axes>"
      ]
     },
     "metadata": {},
     "output_type": "display_data"
    }
   ],
   "source": [
    "corr = df[num].corr(method='spearman')\n",
    "sns.heatmap(corr, annot=True,cmap='coolwarm')\n",
    "plt.show()"
   ]
  },
  {
   "cell_type": "code",
   "execution_count": 51,
   "metadata": {},
   "outputs": [],
   "source": [
    "# Preaparing the data polynomial regression\n",
    "X = df[['Days']]\n",
    "y = df[['Growth Rate (mm/day)']] "
   ]
  },
  {
   "cell_type": "code",
   "execution_count": 52,
   "metadata": {},
   "outputs": [],
   "source": [
    "# split the data into training and test sets\n",
    "X_train, X_test, y_train, y_test = train_test_split(X, y, test_size=0.2, random_state=42)"
   ]
  },
  {
   "cell_type": "code",
   "execution_count": 53,
   "metadata": {},
   "outputs": [],
   "source": [
    "# creating polynoimal regression\n",
    "degree = 4 # speacify the degree of the polynomial\n",
    "poly_features = PolynomialFeatures(degree=degree)\n",
    "X_train_poly = poly_features.fit_transform(X_train)\n",
    "X_test_poly = poly_features.fit_transform(X_test)"
   ]
  },
  {
   "cell_type": "code",
   "execution_count": 54,
   "metadata": {},
   "outputs": [
    {
     "data": {
      "text/html": [
       "<style>#sk-container-id-2 {\n",
       "  /* Definition of color scheme common for light and dark mode */\n",
       "  --sklearn-color-text: #000;\n",
       "  --sklearn-color-text-muted: #666;\n",
       "  --sklearn-color-line: gray;\n",
       "  /* Definition of color scheme for unfitted estimators */\n",
       "  --sklearn-color-unfitted-level-0: #fff5e6;\n",
       "  --sklearn-color-unfitted-level-1: #f6e4d2;\n",
       "  --sklearn-color-unfitted-level-2: #ffe0b3;\n",
       "  --sklearn-color-unfitted-level-3: chocolate;\n",
       "  /* Definition of color scheme for fitted estimators */\n",
       "  --sklearn-color-fitted-level-0: #f0f8ff;\n",
       "  --sklearn-color-fitted-level-1: #d4ebff;\n",
       "  --sklearn-color-fitted-level-2: #b3dbfd;\n",
       "  --sklearn-color-fitted-level-3: cornflowerblue;\n",
       "\n",
       "  /* Specific color for light theme */\n",
       "  --sklearn-color-text-on-default-background: var(--sg-text-color, var(--theme-code-foreground, var(--jp-content-font-color1, black)));\n",
       "  --sklearn-color-background: var(--sg-background-color, var(--theme-background, var(--jp-layout-color0, white)));\n",
       "  --sklearn-color-border-box: var(--sg-text-color, var(--theme-code-foreground, var(--jp-content-font-color1, black)));\n",
       "  --sklearn-color-icon: #696969;\n",
       "\n",
       "  @media (prefers-color-scheme: dark) {\n",
       "    /* Redefinition of color scheme for dark theme */\n",
       "    --sklearn-color-text-on-default-background: var(--sg-text-color, var(--theme-code-foreground, var(--jp-content-font-color1, white)));\n",
       "    --sklearn-color-background: var(--sg-background-color, var(--theme-background, var(--jp-layout-color0, #111)));\n",
       "    --sklearn-color-border-box: var(--sg-text-color, var(--theme-code-foreground, var(--jp-content-font-color1, white)));\n",
       "    --sklearn-color-icon: #878787;\n",
       "  }\n",
       "}\n",
       "\n",
       "#sk-container-id-2 {\n",
       "  color: var(--sklearn-color-text);\n",
       "}\n",
       "\n",
       "#sk-container-id-2 pre {\n",
       "  padding: 0;\n",
       "}\n",
       "\n",
       "#sk-container-id-2 input.sk-hidden--visually {\n",
       "  border: 0;\n",
       "  clip: rect(1px 1px 1px 1px);\n",
       "  clip: rect(1px, 1px, 1px, 1px);\n",
       "  height: 1px;\n",
       "  margin: -1px;\n",
       "  overflow: hidden;\n",
       "  padding: 0;\n",
       "  position: absolute;\n",
       "  width: 1px;\n",
       "}\n",
       "\n",
       "#sk-container-id-2 div.sk-dashed-wrapped {\n",
       "  border: 1px dashed var(--sklearn-color-line);\n",
       "  margin: 0 0.4em 0.5em 0.4em;\n",
       "  box-sizing: border-box;\n",
       "  padding-bottom: 0.4em;\n",
       "  background-color: var(--sklearn-color-background);\n",
       "}\n",
       "\n",
       "#sk-container-id-2 div.sk-container {\n",
       "  /* jupyter's `normalize.less` sets `[hidden] { display: none; }`\n",
       "     but bootstrap.min.css set `[hidden] { display: none !important; }`\n",
       "     so we also need the `!important` here to be able to override the\n",
       "     default hidden behavior on the sphinx rendered scikit-learn.org.\n",
       "     See: https://github.com/scikit-learn/scikit-learn/issues/21755 */\n",
       "  display: inline-block !important;\n",
       "  position: relative;\n",
       "}\n",
       "\n",
       "#sk-container-id-2 div.sk-text-repr-fallback {\n",
       "  display: none;\n",
       "}\n",
       "\n",
       "div.sk-parallel-item,\n",
       "div.sk-serial,\n",
       "div.sk-item {\n",
       "  /* draw centered vertical line to link estimators */\n",
       "  background-image: linear-gradient(var(--sklearn-color-text-on-default-background), var(--sklearn-color-text-on-default-background));\n",
       "  background-size: 2px 100%;\n",
       "  background-repeat: no-repeat;\n",
       "  background-position: center center;\n",
       "}\n",
       "\n",
       "/* Parallel-specific style estimator block */\n",
       "\n",
       "#sk-container-id-2 div.sk-parallel-item::after {\n",
       "  content: \"\";\n",
       "  width: 100%;\n",
       "  border-bottom: 2px solid var(--sklearn-color-text-on-default-background);\n",
       "  flex-grow: 1;\n",
       "}\n",
       "\n",
       "#sk-container-id-2 div.sk-parallel {\n",
       "  display: flex;\n",
       "  align-items: stretch;\n",
       "  justify-content: center;\n",
       "  background-color: var(--sklearn-color-background);\n",
       "  position: relative;\n",
       "}\n",
       "\n",
       "#sk-container-id-2 div.sk-parallel-item {\n",
       "  display: flex;\n",
       "  flex-direction: column;\n",
       "}\n",
       "\n",
       "#sk-container-id-2 div.sk-parallel-item:first-child::after {\n",
       "  align-self: flex-end;\n",
       "  width: 50%;\n",
       "}\n",
       "\n",
       "#sk-container-id-2 div.sk-parallel-item:last-child::after {\n",
       "  align-self: flex-start;\n",
       "  width: 50%;\n",
       "}\n",
       "\n",
       "#sk-container-id-2 div.sk-parallel-item:only-child::after {\n",
       "  width: 0;\n",
       "}\n",
       "\n",
       "/* Serial-specific style estimator block */\n",
       "\n",
       "#sk-container-id-2 div.sk-serial {\n",
       "  display: flex;\n",
       "  flex-direction: column;\n",
       "  align-items: center;\n",
       "  background-color: var(--sklearn-color-background);\n",
       "  padding-right: 1em;\n",
       "  padding-left: 1em;\n",
       "}\n",
       "\n",
       "\n",
       "/* Toggleable style: style used for estimator/Pipeline/ColumnTransformer box that is\n",
       "clickable and can be expanded/collapsed.\n",
       "- Pipeline and ColumnTransformer use this feature and define the default style\n",
       "- Estimators will overwrite some part of the style using the `sk-estimator` class\n",
       "*/\n",
       "\n",
       "/* Pipeline and ColumnTransformer style (default) */\n",
       "\n",
       "#sk-container-id-2 div.sk-toggleable {\n",
       "  /* Default theme specific background. It is overwritten whether we have a\n",
       "  specific estimator or a Pipeline/ColumnTransformer */\n",
       "  background-color: var(--sklearn-color-background);\n",
       "}\n",
       "\n",
       "/* Toggleable label */\n",
       "#sk-container-id-2 label.sk-toggleable__label {\n",
       "  cursor: pointer;\n",
       "  display: flex;\n",
       "  width: 100%;\n",
       "  margin-bottom: 0;\n",
       "  padding: 0.5em;\n",
       "  box-sizing: border-box;\n",
       "  text-align: center;\n",
       "  align-items: start;\n",
       "  justify-content: space-between;\n",
       "  gap: 0.5em;\n",
       "}\n",
       "\n",
       "#sk-container-id-2 label.sk-toggleable__label .caption {\n",
       "  font-size: 0.6rem;\n",
       "  font-weight: lighter;\n",
       "  color: var(--sklearn-color-text-muted);\n",
       "}\n",
       "\n",
       "#sk-container-id-2 label.sk-toggleable__label-arrow:before {\n",
       "  /* Arrow on the left of the label */\n",
       "  content: \"▸\";\n",
       "  float: left;\n",
       "  margin-right: 0.25em;\n",
       "  color: var(--sklearn-color-icon);\n",
       "}\n",
       "\n",
       "#sk-container-id-2 label.sk-toggleable__label-arrow:hover:before {\n",
       "  color: var(--sklearn-color-text);\n",
       "}\n",
       "\n",
       "/* Toggleable content - dropdown */\n",
       "\n",
       "#sk-container-id-2 div.sk-toggleable__content {\n",
       "  max-height: 0;\n",
       "  max-width: 0;\n",
       "  overflow: hidden;\n",
       "  text-align: left;\n",
       "  /* unfitted */\n",
       "  background-color: var(--sklearn-color-unfitted-level-0);\n",
       "}\n",
       "\n",
       "#sk-container-id-2 div.sk-toggleable__content.fitted {\n",
       "  /* fitted */\n",
       "  background-color: var(--sklearn-color-fitted-level-0);\n",
       "}\n",
       "\n",
       "#sk-container-id-2 div.sk-toggleable__content pre {\n",
       "  margin: 0.2em;\n",
       "  border-radius: 0.25em;\n",
       "  color: var(--sklearn-color-text);\n",
       "  /* unfitted */\n",
       "  background-color: var(--sklearn-color-unfitted-level-0);\n",
       "}\n",
       "\n",
       "#sk-container-id-2 div.sk-toggleable__content.fitted pre {\n",
       "  /* unfitted */\n",
       "  background-color: var(--sklearn-color-fitted-level-0);\n",
       "}\n",
       "\n",
       "#sk-container-id-2 input.sk-toggleable__control:checked~div.sk-toggleable__content {\n",
       "  /* Expand drop-down */\n",
       "  max-height: 200px;\n",
       "  max-width: 100%;\n",
       "  overflow: auto;\n",
       "}\n",
       "\n",
       "#sk-container-id-2 input.sk-toggleable__control:checked~label.sk-toggleable__label-arrow:before {\n",
       "  content: \"▾\";\n",
       "}\n",
       "\n",
       "/* Pipeline/ColumnTransformer-specific style */\n",
       "\n",
       "#sk-container-id-2 div.sk-label input.sk-toggleable__control:checked~label.sk-toggleable__label {\n",
       "  color: var(--sklearn-color-text);\n",
       "  background-color: var(--sklearn-color-unfitted-level-2);\n",
       "}\n",
       "\n",
       "#sk-container-id-2 div.sk-label.fitted input.sk-toggleable__control:checked~label.sk-toggleable__label {\n",
       "  background-color: var(--sklearn-color-fitted-level-2);\n",
       "}\n",
       "\n",
       "/* Estimator-specific style */\n",
       "\n",
       "/* Colorize estimator box */\n",
       "#sk-container-id-2 div.sk-estimator input.sk-toggleable__control:checked~label.sk-toggleable__label {\n",
       "  /* unfitted */\n",
       "  background-color: var(--sklearn-color-unfitted-level-2);\n",
       "}\n",
       "\n",
       "#sk-container-id-2 div.sk-estimator.fitted input.sk-toggleable__control:checked~label.sk-toggleable__label {\n",
       "  /* fitted */\n",
       "  background-color: var(--sklearn-color-fitted-level-2);\n",
       "}\n",
       "\n",
       "#sk-container-id-2 div.sk-label label.sk-toggleable__label,\n",
       "#sk-container-id-2 div.sk-label label {\n",
       "  /* The background is the default theme color */\n",
       "  color: var(--sklearn-color-text-on-default-background);\n",
       "}\n",
       "\n",
       "/* On hover, darken the color of the background */\n",
       "#sk-container-id-2 div.sk-label:hover label.sk-toggleable__label {\n",
       "  color: var(--sklearn-color-text);\n",
       "  background-color: var(--sklearn-color-unfitted-level-2);\n",
       "}\n",
       "\n",
       "/* Label box, darken color on hover, fitted */\n",
       "#sk-container-id-2 div.sk-label.fitted:hover label.sk-toggleable__label.fitted {\n",
       "  color: var(--sklearn-color-text);\n",
       "  background-color: var(--sklearn-color-fitted-level-2);\n",
       "}\n",
       "\n",
       "/* Estimator label */\n",
       "\n",
       "#sk-container-id-2 div.sk-label label {\n",
       "  font-family: monospace;\n",
       "  font-weight: bold;\n",
       "  display: inline-block;\n",
       "  line-height: 1.2em;\n",
       "}\n",
       "\n",
       "#sk-container-id-2 div.sk-label-container {\n",
       "  text-align: center;\n",
       "}\n",
       "\n",
       "/* Estimator-specific */\n",
       "#sk-container-id-2 div.sk-estimator {\n",
       "  font-family: monospace;\n",
       "  border: 1px dotted var(--sklearn-color-border-box);\n",
       "  border-radius: 0.25em;\n",
       "  box-sizing: border-box;\n",
       "  margin-bottom: 0.5em;\n",
       "  /* unfitted */\n",
       "  background-color: var(--sklearn-color-unfitted-level-0);\n",
       "}\n",
       "\n",
       "#sk-container-id-2 div.sk-estimator.fitted {\n",
       "  /* fitted */\n",
       "  background-color: var(--sklearn-color-fitted-level-0);\n",
       "}\n",
       "\n",
       "/* on hover */\n",
       "#sk-container-id-2 div.sk-estimator:hover {\n",
       "  /* unfitted */\n",
       "  background-color: var(--sklearn-color-unfitted-level-2);\n",
       "}\n",
       "\n",
       "#sk-container-id-2 div.sk-estimator.fitted:hover {\n",
       "  /* fitted */\n",
       "  background-color: var(--sklearn-color-fitted-level-2);\n",
       "}\n",
       "\n",
       "/* Specification for estimator info (e.g. \"i\" and \"?\") */\n",
       "\n",
       "/* Common style for \"i\" and \"?\" */\n",
       "\n",
       ".sk-estimator-doc-link,\n",
       "a:link.sk-estimator-doc-link,\n",
       "a:visited.sk-estimator-doc-link {\n",
       "  float: right;\n",
       "  font-size: smaller;\n",
       "  line-height: 1em;\n",
       "  font-family: monospace;\n",
       "  background-color: var(--sklearn-color-background);\n",
       "  border-radius: 1em;\n",
       "  height: 1em;\n",
       "  width: 1em;\n",
       "  text-decoration: none !important;\n",
       "  margin-left: 0.5em;\n",
       "  text-align: center;\n",
       "  /* unfitted */\n",
       "  border: var(--sklearn-color-unfitted-level-1) 1pt solid;\n",
       "  color: var(--sklearn-color-unfitted-level-1);\n",
       "}\n",
       "\n",
       ".sk-estimator-doc-link.fitted,\n",
       "a:link.sk-estimator-doc-link.fitted,\n",
       "a:visited.sk-estimator-doc-link.fitted {\n",
       "  /* fitted */\n",
       "  border: var(--sklearn-color-fitted-level-1) 1pt solid;\n",
       "  color: var(--sklearn-color-fitted-level-1);\n",
       "}\n",
       "\n",
       "/* On hover */\n",
       "div.sk-estimator:hover .sk-estimator-doc-link:hover,\n",
       ".sk-estimator-doc-link:hover,\n",
       "div.sk-label-container:hover .sk-estimator-doc-link:hover,\n",
       ".sk-estimator-doc-link:hover {\n",
       "  /* unfitted */\n",
       "  background-color: var(--sklearn-color-unfitted-level-3);\n",
       "  color: var(--sklearn-color-background);\n",
       "  text-decoration: none;\n",
       "}\n",
       "\n",
       "div.sk-estimator.fitted:hover .sk-estimator-doc-link.fitted:hover,\n",
       ".sk-estimator-doc-link.fitted:hover,\n",
       "div.sk-label-container:hover .sk-estimator-doc-link.fitted:hover,\n",
       ".sk-estimator-doc-link.fitted:hover {\n",
       "  /* fitted */\n",
       "  background-color: var(--sklearn-color-fitted-level-3);\n",
       "  color: var(--sklearn-color-background);\n",
       "  text-decoration: none;\n",
       "}\n",
       "\n",
       "/* Span, style for the box shown on hovering the info icon */\n",
       ".sk-estimator-doc-link span {\n",
       "  display: none;\n",
       "  z-index: 9999;\n",
       "  position: relative;\n",
       "  font-weight: normal;\n",
       "  right: .2ex;\n",
       "  padding: .5ex;\n",
       "  margin: .5ex;\n",
       "  width: min-content;\n",
       "  min-width: 20ex;\n",
       "  max-width: 50ex;\n",
       "  color: var(--sklearn-color-text);\n",
       "  box-shadow: 2pt 2pt 4pt #999;\n",
       "  /* unfitted */\n",
       "  background: var(--sklearn-color-unfitted-level-0);\n",
       "  border: .5pt solid var(--sklearn-color-unfitted-level-3);\n",
       "}\n",
       "\n",
       ".sk-estimator-doc-link.fitted span {\n",
       "  /* fitted */\n",
       "  background: var(--sklearn-color-fitted-level-0);\n",
       "  border: var(--sklearn-color-fitted-level-3);\n",
       "}\n",
       "\n",
       ".sk-estimator-doc-link:hover span {\n",
       "  display: block;\n",
       "}\n",
       "\n",
       "/* \"?\"-specific style due to the `<a>` HTML tag */\n",
       "\n",
       "#sk-container-id-2 a.estimator_doc_link {\n",
       "  float: right;\n",
       "  font-size: 1rem;\n",
       "  line-height: 1em;\n",
       "  font-family: monospace;\n",
       "  background-color: var(--sklearn-color-background);\n",
       "  border-radius: 1rem;\n",
       "  height: 1rem;\n",
       "  width: 1rem;\n",
       "  text-decoration: none;\n",
       "  /* unfitted */\n",
       "  color: var(--sklearn-color-unfitted-level-1);\n",
       "  border: var(--sklearn-color-unfitted-level-1) 1pt solid;\n",
       "}\n",
       "\n",
       "#sk-container-id-2 a.estimator_doc_link.fitted {\n",
       "  /* fitted */\n",
       "  border: var(--sklearn-color-fitted-level-1) 1pt solid;\n",
       "  color: var(--sklearn-color-fitted-level-1);\n",
       "}\n",
       "\n",
       "/* On hover */\n",
       "#sk-container-id-2 a.estimator_doc_link:hover {\n",
       "  /* unfitted */\n",
       "  background-color: var(--sklearn-color-unfitted-level-3);\n",
       "  color: var(--sklearn-color-background);\n",
       "  text-decoration: none;\n",
       "}\n",
       "\n",
       "#sk-container-id-2 a.estimator_doc_link.fitted:hover {\n",
       "  /* fitted */\n",
       "  background-color: var(--sklearn-color-fitted-level-3);\n",
       "}\n",
       "</style><div id=\"sk-container-id-2\" class=\"sk-top-container\"><div class=\"sk-text-repr-fallback\"><pre>LinearRegression()</pre><b>In a Jupyter environment, please rerun this cell to show the HTML representation or trust the notebook. <br />On GitHub, the HTML representation is unable to render, please try loading this page with nbviewer.org.</b></div><div class=\"sk-container\" hidden><div class=\"sk-item\"><div class=\"sk-estimator fitted sk-toggleable\"><input class=\"sk-toggleable__control sk-hidden--visually\" id=\"sk-estimator-id-2\" type=\"checkbox\" checked><label for=\"sk-estimator-id-2\" class=\"sk-toggleable__label fitted sk-toggleable__label-arrow\"><div><div>LinearRegression</div></div><div><a class=\"sk-estimator-doc-link fitted\" rel=\"noreferrer\" target=\"_blank\" href=\"https://scikit-learn.org/1.6/modules/generated/sklearn.linear_model.LinearRegression.html\">?<span>Documentation for LinearRegression</span></a><span class=\"sk-estimator-doc-link fitted\">i<span>Fitted</span></span></div></label><div class=\"sk-toggleable__content fitted\"><pre>LinearRegression()</pre></div> </div></div></div></div>"
      ],
      "text/plain": [
       "LinearRegression()"
      ]
     },
     "execution_count": 54,
     "metadata": {},
     "output_type": "execute_result"
    }
   ],
   "source": [
    "# fit the polynoimal regressionm model\n",
    "model = LinearRegression()\n",
    "model.fit(X_train_poly, y_train)"
   ]
  },
  {
   "cell_type": "code",
   "execution_count": 55,
   "metadata": {},
   "outputs": [
    {
     "data": {
      "text/plain": [
       "array([[5.12945335],\n",
       "       [5.18257016],\n",
       "       [5.19608448],\n",
       "       [5.12933924],\n",
       "       [5.14341527],\n",
       "       [4.94243599],\n",
       "       [5.12956302],\n",
       "       [5.15452407],\n",
       "       [5.08251088],\n",
       "       [5.15064937],\n",
       "       [5.12285928],\n",
       "       [4.96745501],\n",
       "       [5.01730502],\n",
       "       [4.96745501],\n",
       "       [5.12305743],\n",
       "       [5.12882548],\n",
       "       [5.13427748],\n",
       "       [4.73249712],\n",
       "       [5.12505639],\n",
       "       [5.12408537],\n",
       "       [5.09198902],\n",
       "       [5.12628274],\n",
       "       [5.1585232 ],\n",
       "       [5.19376826],\n",
       "       [5.12305743],\n",
       "       [5.05898179],\n",
       "       [5.16672821],\n",
       "       [5.12285928],\n",
       "       [4.79104802],\n",
       "       [5.18565801],\n",
       "       [5.12305743],\n",
       "       [4.85125775],\n",
       "       [5.18257016],\n",
       "       [5.12376035],\n",
       "       [5.16308407],\n",
       "       [5.19776957],\n",
       "       [5.12647456],\n",
       "       [5.12877439],\n",
       "       [5.11269314],\n",
       "       [5.19733832],\n",
       "       [5.16672821],\n",
       "       [5.10696731],\n",
       "       [5.1239947 ],\n",
       "       [5.12115161],\n",
       "       [4.8844952 ],\n",
       "       [4.81495832],\n",
       "       [5.19618433],\n",
       "       [5.12933924],\n",
       "       [5.19032949],\n",
       "       [5.12475898],\n",
       "       [5.19376826],\n",
       "       [5.12505639],\n",
       "       [5.12247512],\n",
       "       [5.12305743],\n",
       "       [5.17882058],\n",
       "       [5.14693563],\n",
       "       [5.06793725],\n",
       "       [5.11269314],\n",
       "       [5.13966709],\n",
       "       [5.16260615],\n",
       "       [5.17882058],\n",
       "       [5.08251088],\n",
       "       [5.01034882],\n",
       "       [4.85125775],\n",
       "       [5.04468063],\n",
       "       [5.11738704],\n",
       "       [4.42339769],\n",
       "       [5.12877439],\n",
       "       [5.12263457],\n",
       "       [5.14341527],\n",
       "       [4.42339769],\n",
       "       [4.98775749],\n",
       "       [5.19618433],\n",
       "       [5.19608448],\n",
       "       [5.1721557 ],\n",
       "       [5.12376035],\n",
       "       [5.17489037],\n",
       "       [5.137064  ],\n",
       "       [5.18607393],\n",
       "       [5.12877439],\n",
       "       [5.13966709],\n",
       "       [5.1920629 ],\n",
       "       [5.10696731],\n",
       "       [4.56419112],\n",
       "       [5.19738426],\n",
       "       [4.63571792],\n",
       "       [5.10696731],\n",
       "       [5.12924178],\n",
       "       [5.15452407],\n",
       "       [5.137064  ],\n",
       "       [5.15064937],\n",
       "       [5.12647456],\n",
       "       [4.96745501],\n",
       "       [5.12115161],\n",
       "       [4.56419112],\n",
       "       [4.79104802],\n",
       "       [4.63571792],\n",
       "       [4.91483465],\n",
       "       [5.12334909],\n",
       "       [5.06793725],\n",
       "       [5.06793725],\n",
       "       [5.01730502],\n",
       "       [5.12285928],\n",
       "       [5.16260615],\n",
       "       [5.12933924],\n",
       "       [5.12376035],\n",
       "       [5.15452407],\n",
       "       [5.19032949],\n",
       "       [5.08251088],\n",
       "       [5.17963953],\n",
       "       [5.12877439],\n",
       "       [5.08933643],\n",
       "       [4.56419112],\n",
       "       [5.12247512],\n",
       "       [5.17963953],\n",
       "       [4.81495832],\n",
       "       [5.11738704],\n",
       "       [4.74068221],\n",
       "       [5.12945335],\n",
       "       [5.18565801],\n",
       "       [4.42339769],\n",
       "       [5.08251088],\n",
       "       [4.96745501],\n",
       "       [5.1239947 ],\n",
       "       [5.12505639],\n",
       "       [5.17084058],\n",
       "       [5.137064  ],\n",
       "       [5.11269314],\n",
       "       [4.83749817],\n",
       "       [5.15064937],\n",
       "       [5.19733832],\n",
       "       [5.14693563],\n",
       "       [5.12605266],\n",
       "       [5.17963953],\n",
       "       [5.12811694],\n",
       "       [5.18926263],\n",
       "       [5.11269314],\n",
       "       [5.15452407],\n",
       "       [5.16308407],\n",
       "       [5.1239947 ],\n",
       "       [5.07154949],\n",
       "       [5.19618433],\n",
       "       [5.15064937],\n",
       "       [5.19738426],\n",
       "       [5.19439732],\n",
       "       [5.14341527],\n",
       "       [4.99004341],\n",
       "       [5.15064937],\n",
       "       [5.02851475],\n",
       "       [5.12334909],\n",
       "       [4.68621282],\n",
       "       [5.19776957],\n",
       "       [5.18607393],\n",
       "       [5.16260615],\n",
       "       [4.49624251],\n",
       "       [5.09198902],\n",
       "       [5.12505639],\n",
       "       [5.12811694],\n",
       "       [5.18607393],\n",
       "       [4.85125775]])"
      ]
     },
     "execution_count": 55,
     "metadata": {},
     "output_type": "execute_result"
    }
   ],
   "source": [
    "# make prediction\n",
    "y_pred = model.predict(X_test_poly)\n",
    "y_pred"
   ]
  },
  {
   "cell_type": "code",
   "execution_count": 56,
   "metadata": {},
   "outputs": [
    {
     "name": "stdout",
     "output_type": "stream",
     "text": [
      "RMSE: 2.84400533625093\n",
      "R2 Score: 0.019798893608665158\n"
     ]
    }
   ],
   "source": [
    "# evaluate the model\n",
    "train_rmse = np.sqrt(mean_squared_error(y_test, y_pred))\n",
    "r2_train = r2_score(y_test, y_pred)\n",
    "\n",
    "print(\"RMSE:\",train_rmse)\n",
    "print(\"R2 Score:\",r2_train)"
   ]
  },
  {
   "cell_type": "code",
   "execution_count": 57,
   "metadata": {},
   "outputs": [
    {
     "data": {
      "application/vnd.microsoft.datawrangler.viewer.v0+json": {
       "columns": [
        {
         "name": "index",
         "rawType": "int64",
         "type": "integer"
        },
        {
         "name": "Tissue Type",
         "rawType": "object",
         "type": "string"
        },
        {
         "name": "Growth Rate (mm/day)",
         "rawType": "float64",
         "type": "float"
        },
        {
         "name": "Days",
         "rawType": "int64",
         "type": "integer"
        }
       ],
       "conversionMethod": "pd.DataFrame",
       "ref": "de356842-a032-4d85-90f2-7af9d4d94570",
       "rows": [
        [
         "19",
         "Epithelial",
         "2.983168487960615",
         "99"
        ],
        [
         "264",
         "Nervous",
         "8.785993412086759",
         "99"
        ],
        [
         "459",
         "Muscle",
         "1.276297371053912",
         "99"
        ],
        [
         "585",
         "Muscle",
         "2.4774416259041114",
         "99"
        ],
        [
         "775",
         "Nervous",
         "1.5841825307528603",
         "99"
        ]
       ],
       "shape": {
        "columns": 3,
        "rows": 5
       }
      },
      "text/html": [
       "<div>\n",
       "<style scoped>\n",
       "    .dataframe tbody tr th:only-of-type {\n",
       "        vertical-align: middle;\n",
       "    }\n",
       "\n",
       "    .dataframe tbody tr th {\n",
       "        vertical-align: top;\n",
       "    }\n",
       "\n",
       "    .dataframe thead th {\n",
       "        text-align: right;\n",
       "    }\n",
       "</style>\n",
       "<table border=\"1\" class=\"dataframe\">\n",
       "  <thead>\n",
       "    <tr style=\"text-align: right;\">\n",
       "      <th></th>\n",
       "      <th>Tissue Type</th>\n",
       "      <th>Growth Rate (mm/day)</th>\n",
       "      <th>Days</th>\n",
       "    </tr>\n",
       "  </thead>\n",
       "  <tbody>\n",
       "    <tr>\n",
       "      <th>19</th>\n",
       "      <td>Epithelial</td>\n",
       "      <td>2.983168</td>\n",
       "      <td>99</td>\n",
       "    </tr>\n",
       "    <tr>\n",
       "      <th>264</th>\n",
       "      <td>Nervous</td>\n",
       "      <td>8.785993</td>\n",
       "      <td>99</td>\n",
       "    </tr>\n",
       "    <tr>\n",
       "      <th>459</th>\n",
       "      <td>Muscle</td>\n",
       "      <td>1.276297</td>\n",
       "      <td>99</td>\n",
       "    </tr>\n",
       "    <tr>\n",
       "      <th>585</th>\n",
       "      <td>Muscle</td>\n",
       "      <td>2.477442</td>\n",
       "      <td>99</td>\n",
       "    </tr>\n",
       "    <tr>\n",
       "      <th>775</th>\n",
       "      <td>Nervous</td>\n",
       "      <td>1.584183</td>\n",
       "      <td>99</td>\n",
       "    </tr>\n",
       "  </tbody>\n",
       "</table>\n",
       "</div>"
      ],
      "text/plain": [
       "    Tissue Type  Growth Rate (mm/day)  Days\n",
       "19   Epithelial              2.983168    99\n",
       "264     Nervous              8.785993    99\n",
       "459      Muscle              1.276297    99\n",
       "585      Muscle              2.477442    99\n",
       "775     Nervous              1.584183    99"
      ]
     },
     "execution_count": 57,
     "metadata": {},
     "output_type": "execute_result"
    }
   ],
   "source": [
    "df[df['Days']==99]"
   ]
  },
  {
   "cell_type": "code",
   "execution_count": 58,
   "metadata": {},
   "outputs": [
    {
     "data": {
      "text/plain": [
       "array([5.12945335])"
      ]
     },
     "execution_count": 58,
     "metadata": {},
     "output_type": "execute_result"
    }
   ],
   "source": [
    "Y_pred = model.predict(poly_features.fit_transform([[100]]))\n",
    "y_pred = y_pred[0]\n",
    "y_pred"
   ]
  }
 ],
 "metadata": {
  "kernelspec": {
   "display_name": "Python 3",
   "language": "python",
   "name": "python3"
  },
  "language_info": {
   "codemirror_mode": {
    "name": "ipython",
    "version": 3
   },
   "file_extension": ".py",
   "mimetype": "text/x-python",
   "name": "python",
   "nbconvert_exporter": "python",
   "pygments_lexer": "ipython3",
   "version": "3.12.9"
  }
 },
 "nbformat": 4,
 "nbformat_minor": 2
}
