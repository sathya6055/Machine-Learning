{
 "cells": [
  {
   "cell_type": "markdown",
   "metadata": {},
   "source": [
    "### **Image Segmantation**"
   ]
  },
  {
   "cell_type": "code",
   "execution_count": 15,
   "metadata": {},
   "outputs": [],
   "source": [
    "import numpy as np\n",
    "import cv2\n",
    "import matplotlib.pyplot as plt\n",
    "import seaborn as sns\n",
    "from sklearn.cluster import KMeans"
   ]
  },
  {
   "cell_type": "code",
   "execution_count": 16,
   "metadata": {},
   "outputs": [],
   "source": [
    "file_path = r\"C:\\Users\\adity\\Documents\\Machine Learning\\K-Means_Cluster\\Datasets\\1_slqlQWEnhsLcQw4nm64tOA.jpg\"\n",
    "Image = cv2.imread(file_path, cv2.IMREAD_UNCHANGED)\n"
   ]
  },
  {
   "cell_type": "code",
   "execution_count": 21,
   "metadata": {},
   "outputs": [],
   "source": [
    "if Image.shape[-1] == 4:\n",
    "    Image = cv2.cvtColor(Image, cv2.COLOR_RGB2BGRA)\n",
    "else:\n",
    "    Image = cv2.cvtColor(Image, cv2.COLOR_BGR2BGRA)"
   ]
  },
  {
   "cell_type": "code",
   "execution_count": 22,
   "metadata": {},
   "outputs": [],
   "source": [
    "X = Image.reshape(-1, Image.shape[-1])"
   ]
  },
  {
   "cell_type": "code",
   "execution_count": 23,
   "metadata": {},
   "outputs": [],
   "source": [
    "segmented_img = []\n",
    "n_color = (3, 2)"
   ]
  },
  {
   "cell_type": "code",
   "execution_count": 24,
   "metadata": {},
   "outputs": [
    {
     "ename": "TypeError",
     "evalue": "KMeans.__init__() got an unexpected keyword argument 'n_cluster'",
     "output_type": "error",
     "traceback": [
      "\u001b[1;31m---------------------------------------------------------------------------\u001b[0m",
      "\u001b[1;31mTypeError\u001b[0m                                 Traceback (most recent call last)",
      "Cell \u001b[1;32mIn[24], line 2\u001b[0m\n\u001b[0;32m      1\u001b[0m \u001b[38;5;28;01mfor\u001b[39;00m n_cluster \u001b[38;5;129;01min\u001b[39;00m n_color:\n\u001b[1;32m----> 2\u001b[0m     KMeans \u001b[38;5;241m=\u001b[39m \u001b[43mKMeans\u001b[49m\u001b[43m(\u001b[49m\u001b[43mn_cluster\u001b[49m\u001b[38;5;241;43m=\u001b[39;49m\u001b[43mn_cluster\u001b[49m\u001b[43m,\u001b[49m\u001b[43m \u001b[49m\u001b[43mrandom_state\u001b[49m\u001b[38;5;241;43m=\u001b[39;49m\u001b[38;5;241;43m42\u001b[39;49m\u001b[43m)\u001b[49m\u001b[38;5;241m.\u001b[39mfit(X)\n\u001b[0;32m      3\u001b[0m     segmented_img \u001b[38;5;241m=\u001b[39m KMeans\u001b[38;5;241m.\u001b[39mcluster_center_[kmeans\u001b[38;5;241m.\u001b[39mlabels_]\n\u001b[0;32m      4\u001b[0m     segmented_img\u001b[38;5;241m.\u001b[39mappend(segmented_img\u001b[38;5;241m.\u001b[39mreshape(Image\u001b[38;5;241m.\u001b[39mshape)\u001b[38;5;241m.\u001b[39mastype(np\u001b[38;5;241m.\u001b[39muint8))\n",
      "\u001b[1;31mTypeError\u001b[0m: KMeans.__init__() got an unexpected keyword argument 'n_cluster'"
     ]
    }
   ],
   "source": [
    "for n_cluster in n_color:\n",
    "    KMeans = KMeans(n_cluster=n_cluster, random_state=42).fit(X)\n",
    "    segmented_img = KMeans.cluster_center_[kmeans.labels_]\n",
    "    segmented_img.append(segmented_img.reshape(Image.shape).astype(np.uint8))"
   ]
  },
  {
   "cell_type": "code",
   "execution_count": null,
   "metadata": {},
   "outputs": [],
   "source": []
  }
 ],
 "metadata": {
  "kernelspec": {
   "display_name": "Python 3",
   "language": "python",
   "name": "python3"
  },
  "language_info": {
   "codemirror_mode": {
    "name": "ipython",
    "version": 3
   },
   "file_extension": ".py",
   "mimetype": "text/x-python",
   "name": "python",
   "nbconvert_exporter": "python",
   "pygments_lexer": "ipython3",
   "version": "3.12.9"
  }
 },
 "nbformat": 4,
 "nbformat_minor": 2
}
